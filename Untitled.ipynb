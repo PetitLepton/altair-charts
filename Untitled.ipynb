{
 "cells": [
  {
   "cell_type": "code",
   "execution_count": 2,
   "metadata": {},
   "outputs": [],
   "source": [
    "import altair\n",
    "import pandas"
   ]
  },
  {
   "cell_type": "code",
   "execution_count": 59,
   "metadata": {},
   "outputs": [
    {
     "data": {
      "text/html": [
       "<style>\n",
       "@import url('https://fonts.googleapis.com/css?family=IBM+Plex+Sans+Condensed:400,600&display=swap');\n",
       "</style> \n"
      ],
      "text/plain": [
       "<IPython.core.display.HTML object>"
      ]
     },
     "metadata": {},
     "output_type": "display_data"
    }
   ],
   "source": [
    "%%html\n",
    "<style>\n",
    "@import url('https://fonts.googleapis.com/css?family=IBM+Plex+Sans+Condensed:400,600&display=swap');\n",
    "</style> "
   ]
  },
  {
   "cell_type": "code",
   "execution_count": 214,
   "metadata": {},
   "outputs": [],
   "source": [
    "def urban_theme():\n",
    "    # Typography\n",
    "    font = \"IBM Plex Sans Condensed\"\n",
    "    # At Urban it's the same font for all text but it's good to keep them separate in case you want to change one later.\n",
    "    labelFont = \"IBM Plex Sans Condensed\"\n",
    "    sourceFont = \"IBM Plex Sans Condensed\"  # Axes\n",
    "    backgroundColor = \"#00ffff\"\n",
    "    axisColor = \"#000000\"\n",
    "    gridColor = \"#DEDDDD\"  # Colors\n",
    "    main_palette = [\n",
    "        \"#1696d2\",\n",
    "        \"#d2d2d2\",\n",
    "        \"#000000\",\n",
    "        \"#fdbf11\",\n",
    "        \"#ec008b\",\n",
    "        \"#55b748\",\n",
    "        \"#5c5859\",\n",
    "        \"#db2b27\",\n",
    "    ]\n",
    "    sequential_palette = [\n",
    "        \"#cfe8f3\",\n",
    "        \"#a2d4ec\",\n",
    "        \"#73bfe2\",\n",
    "        \"#46abdb\",\n",
    "        \"#1696d2\",\n",
    "        \"#12719e\",\n",
    "    ]\n",
    "    return {\n",
    "        \"width\": 685,  # from the guide\n",
    "        \"height\": 380,  # not in the guide,\n",
    "        \"config\": {\n",
    "            \"view\": {\n",
    "                \"stroke\": \"transparent\",  # altair uses gridlines to box the area where the data is visualized. This takes that off.\n",
    "            },\n",
    "            # \"background\": {\"color\": \"#FFFFFF\",},  # white rather than transparent\n",
    "            \"title\": {\n",
    "                \"fontSize\": 24,\n",
    "                \"font\": font,\n",
    "                \"anchor\": \"start\",  # equivalent of left-aligned.\n",
    "                \"fontColor\": \"#000000\",\n",
    "                \"fontWeight\": 400,\n",
    "            },\n",
    "            \"axisX\": {\n",
    "                \"domain\": True,\n",
    "                \"domainColor\": backgroundColor,\n",
    "                \"domainWidth\": 2,\n",
    "                \"grid\": False,\n",
    "                \"labelFont\": labelFont,\n",
    "                \"labelFontSize\": 12,\n",
    "                \"fontWeight\": \"normal\",\n",
    "                \"labelAngle\": 0,\n",
    "                \"tickColor\": axisColor,\n",
    "                \"tickSize\": 5,  # default, including it just to show you can change it\n",
    "                \"titleFont\": font,\n",
    "                \"titleFontSize\": 18,\n",
    "                \"titleFontWeight\": 400,\n",
    "                \"titlePadding\": 20,  # guessing, not specified in styleguide\n",
    "            },\n",
    "            \"axisY\": {\n",
    "                \"domain\": False,\n",
    "                \"grid\": False,\n",
    "                \"gridColor\": gridColor,\n",
    "                \"gridWidth\": 1,\n",
    "                \"labelFont\": labelFont,\n",
    "                \"labelFontSize\": 16,\n",
    "                \"labelAngle\": 0,\n",
    "                \"ticks\": False,  # even if you don't have a \"domain\" you need to turn these off.\n",
    "                \"titleFont\": font,\n",
    "                \"titleFontSize\": 18,\n",
    "                \"titleFontWeight\": 400,\n",
    "                # titles are by default vertical left of axis so we need to hack this\n",
    "                \"titleAngle\": 0,  # horizontal\n",
    "                \"titleAlign\": \"right\",\n",
    "                \"titleAnchor\": \"start\",\n",
    "                \"titleY\": -20,  # move it up\n",
    "            },\n",
    "            \"range\": {\"category\": main_palette, \"diverging\": sequential_palette,},\n",
    "        },\n",
    "    }"
   ]
  },
  {
   "cell_type": "code",
   "execution_count": 215,
   "metadata": {},
   "outputs": [
    {
     "data": {
      "text/plain": [
       "ThemeRegistry.enable('my_custom_theme')"
      ]
     },
     "execution_count": 215,
     "metadata": {},
     "output_type": "execute_result"
    }
   ],
   "source": [
    "# register\n",
    "altair.themes.register(\"my_custom_theme\", urban_theme)\n",
    "# enable\n",
    "altair.themes.enable(\"my_custom_theme\")"
   ]
  },
  {
   "cell_type": "code",
   "execution_count": 217,
   "metadata": {},
   "outputs": [
    {
     "data": {
      "text/html": [
       "\n",
       "<div id=\"altair-viz-86\"></div>\n",
       "<script type=\"text/javascript\">\n",
       "  (function(spec, embedOpt){\n",
       "    const outputDiv = document.getElementById(\"altair-viz-86\");\n",
       "    const paths = {\n",
       "      \"vega\": \"https://cdn.jsdelivr.net/npm//vega@5?noext\",\n",
       "      \"vega-lib\": \"https://cdn.jsdelivr.net/npm//vega-lib?noext\",\n",
       "      \"vega-lite\": \"https://cdn.jsdelivr.net/npm//vega-lite@4.0.0?noext\",\n",
       "      \"vega-embed\": \"https://cdn.jsdelivr.net/npm//vega-embed@6?noext\",\n",
       "    };\n",
       "\n",
       "    function loadScript(lib) {\n",
       "      return new Promise(function(resolve, reject) {\n",
       "        var s = document.createElement('script');\n",
       "        s.src = paths[lib];\n",
       "        s.async = true;\n",
       "        s.onload = () => resolve(paths[lib]);\n",
       "        s.onerror = () => reject(`Error loading script: ${paths[lib]}`);\n",
       "        document.getElementsByTagName(\"head\")[0].appendChild(s);\n",
       "      });\n",
       "    }\n",
       "\n",
       "    function showError(err) {\n",
       "      outputDiv.innerHTML = `<div class=\"error\" style=\"color:red;\">${err}</div>`;\n",
       "      throw err;\n",
       "    }\n",
       "\n",
       "    function displayChart(vegaEmbed) {\n",
       "      vegaEmbed(outputDiv, spec, embedOpt)\n",
       "        .catch(err => showError(`Javascript Error: ${err.message}<br>This usually means there's a typo in your chart specification. See the javascript console for the full traceback.`));\n",
       "    }\n",
       "\n",
       "    if(typeof define === \"function\" && define.amd) {\n",
       "      requirejs.config({paths});\n",
       "      require([\"vega-embed\"], displayChart, err => showError(`Error loading script: ${err.message}`));\n",
       "    } else if (typeof vegaEmbed === \"function\") {\n",
       "      displayChart(vegaEmbed);\n",
       "    } else {\n",
       "      loadScript(\"vega\")\n",
       "        .then(() => loadScript(\"vega-lite\"))\n",
       "        .then(() => loadScript(\"vega-embed\"))\n",
       "        .catch(showError)\n",
       "        .then(() => displayChart(vegaEmbed));\n",
       "    }\n",
       "  })({\"width\": 685, \"height\": 380, \"config\": {\"view\": {\"stroke\": \"transparent\"}, \"title\": {\"fontSize\": 24, \"font\": \"IBM Plex Sans Condensed\", \"anchor\": \"start\", \"fontColor\": \"#000000\", \"fontWeight\": 400}, \"axisX\": {\"domain\": true, \"domainColor\": \"#00ffff\", \"domainWidth\": 2, \"grid\": false, \"labelFont\": \"IBM Plex Sans Condensed\", \"labelFontSize\": 12, \"fontWeight\": \"normal\", \"labelAngle\": 0, \"tickColor\": \"#000000\", \"tickSize\": 5, \"titleFont\": \"IBM Plex Sans Condensed\", \"titleFontSize\": 18, \"titleFontWeight\": 400, \"titlePadding\": 20}, \"axisY\": {\"domain\": false, \"grid\": false, \"gridColor\": \"#DEDDDD\", \"gridWidth\": 1, \"labelFont\": \"IBM Plex Sans Condensed\", \"labelFontSize\": 16, \"labelAngle\": 0, \"ticks\": false, \"titleFont\": \"IBM Plex Sans Condensed\", \"titleFontSize\": 18, \"titleFontWeight\": 400, \"titleAngle\": 0, \"titleAlign\": \"right\", \"titleAnchor\": \"start\", \"titleY\": -20}, \"range\": {\"category\": [\"#1696d2\", \"#d2d2d2\", \"#000000\", \"#fdbf11\", \"#ec008b\", \"#55b748\", \"#5c5859\", \"#db2b27\"], \"diverging\": [\"#cfe8f3\", \"#a2d4ec\", \"#73bfe2\", \"#46abdb\", \"#1696d2\", \"#12719e\"]}}, \"data\": {\"name\": \"data-c2a3e89ba9d5d1687d5e8c28d630a033\"}, \"mark\": \"bar\", \"encoding\": {\"x\": {\"type\": \"ordinal\", \"axis\": {\"domainDashOffset\": 20, \"title\": \"X label\"}, \"field\": \"a\"}, \"y\": {\"type\": \"quantitative\", \"axis\": {\"title\": \"Y label\", \"titleX\": 15}, \"field\": \"b\"}}, \"title\": \"This is the title\", \"$schema\": \"https://vega.github.io/schema/vega-lite/v4.0.0.json\", \"datasets\": {\"data-c2a3e89ba9d5d1687d5e8c28d630a033\": [{\"a\": \"A\", \"b\": 28}, {\"a\": \"B\", \"b\": 55}, {\"a\": \"C\", \"b\": 43}, {\"a\": \"D\", \"b\": 91}, {\"a\": \"E\", \"b\": 81}, {\"a\": \"F\", \"b\": 53}, {\"a\": \"G\", \"b\": 19}, {\"a\": \"H\", \"b\": 87}, {\"a\": \"I\", \"b\": 52}]}}, {\"mode\": \"vega-lite\"});\n",
       "</script>"
      ],
      "text/plain": [
       "alt.Chart(...)"
      ]
     },
     "execution_count": 217,
     "metadata": {},
     "output_type": "execute_result"
    }
   ],
   "source": [
    "source = pandas.DataFrame(\n",
    "    {\n",
    "        \"a\": [\"A\", \"B\", \"C\", \"D\", \"E\", \"F\", \"G\", \"H\", \"I\"],\n",
    "        \"b\": [28, 55, 43, 91, 81, 53, 19, 87, 52],\n",
    "    }\n",
    ")\n",
    "\n",
    "altair.Chart(source, title=\"This is the title\").mark_bar().encode(\n",
    "    x=altair.X(\"a:O\", axis=altair.Axis(title=\"X label\")),\n",
    "    y=altair.Y(\"b:Q\", axis=altair.Axis(title=\"Y label\", titleX=15)),\n",
    ")"
   ]
  },
  {
   "cell_type": "code",
   "execution_count": null,
   "metadata": {},
   "outputs": [],
   "source": []
  },
  {
   "cell_type": "code",
   "execution_count": null,
   "metadata": {},
   "outputs": [],
   "source": []
  }
 ],
 "metadata": {
  "kernelspec": {
   "display_name": "Python (altair)",
   "language": "python",
   "name": "altair"
  },
  "language_info": {
   "codemirror_mode": {
    "name": "ipython",
    "version": 3
   },
   "file_extension": ".py",
   "mimetype": "text/x-python",
   "name": "python",
   "nbconvert_exporter": "python",
   "pygments_lexer": "ipython3",
   "version": "3.7.3"
  }
 },
 "nbformat": 4,
 "nbformat_minor": 4
}
